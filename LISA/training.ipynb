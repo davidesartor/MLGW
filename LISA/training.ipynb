{
 "cells": [
  {
   "cell_type": "code",
   "execution_count": 1,
   "metadata": {},
   "outputs": [],
   "source": [
    "from GAN import Generator, Discriminator\n",
    "import torch\n",
    "import torch.nn as nn\n",
    "import numpy as np\n",
    "import matplotlib.pyplot as plt\n",
    "\n",
    "from Signal_Generator import *\n",
    "from Signal_Analyzer import *"
   ]
  },
  {
   "cell_type": "code",
   "execution_count": 2,
   "metadata": {},
   "outputs": [],
   "source": [
    "dataset = []\n",
    "\n",
    "for i in range(10):\n",
    "    SG = Signal_Generator(num_sources=10, noise_amplitude=1)\n",
    "    signals = SG.generating_signal()\n",
    "    params = SG.printing_parameters()\n",
    "    signal = signals['Signal'].values\n",
    "\n",
    "    signal_tensor = torch.tensor(signal, dtype=torch.float).unsqueeze(0).unsqueeze(0)\n",
    "    params_tensor = torch.tensor(params, dtype=torch.float).unsqueeze(0)\n",
    "\n",
    "    dataset.append((signal_tensor, params_tensor))\n",
    "\n",
    "num_latent_variables = 10\n",
    "z = torch.randn(1, num_latent_variables, 1)"
   ]
  },
  {
   "cell_type": "code",
   "execution_count": 3,
   "metadata": {},
   "outputs": [],
   "source": [
    "generator = Generator(in_channels=1, num_latent_variables=num_latent_variables, length=len(signal), num_parameters=len(params))\n",
    "discriminator = Discriminator(input_channels=1, num_latent_variables=num_latent_variables, length=len(signal), num_parameters=len(params))"
   ]
  },
  {
   "cell_type": "code",
   "execution_count": 4,
   "metadata": {},
   "outputs": [],
   "source": [
    "criterion = nn.BCELoss()\n",
    "\n",
    "learning_rate = 0.0001\n",
    "num_epochs = 10\n",
    "\n",
    "optimizer_G = torch.optim.Adam(generator.parameters(), lr=learning_rate)\n",
    "optimizer_D = torch.optim.Adam(discriminator.parameters(), lr=learning_rate)\n",
    "\n",
    "device = torch.device(\"cuda\" if torch.cuda.is_available() else \"cpu\")"
   ]
  },
  {
   "cell_type": "code",
   "execution_count": 5,
   "metadata": {},
   "outputs": [
    {
     "name": "stdout",
     "output_type": "stream",
     "text": [
      "Epoch [1/10], Loss_D: 1.5011, Loss_G: 0.9237\n",
      "Epoch [2/10], Loss_D: 1.3960, Loss_G: 0.5942\n",
      "Epoch [3/10], Loss_D: 1.3806, Loss_G: 0.7149\n",
      "Epoch [4/10], Loss_D: 1.3834, Loss_G: 0.7515\n",
      "Epoch [5/10], Loss_D: 1.3818, Loss_G: 0.7311\n",
      "Epoch [6/10], Loss_D: 1.3801, Loss_G: 0.7081\n",
      "Epoch [7/10], Loss_D: 1.3795, Loss_G: 0.7071\n",
      "Epoch [8/10], Loss_D: 1.3791, Loss_G: 0.7145\n",
      "Epoch [9/10], Loss_D: 1.3784, Loss_G: 0.7162\n",
      "Epoch [10/10], Loss_D: 1.3775, Loss_G: 0.7136\n"
     ]
    }
   ],
   "source": [
    "for epoch in range(num_epochs):\n",
    "    for i,data in enumerate(dataset):\n",
    "        signal_tensor, params_tensor = data\n",
    "        \n",
    "        # Generate Fake Parameters\n",
    "        fake_params = generator(signal_tensor, z).detach().squeeze().numpy()\n",
    "        fake_params_tensor = torch.tensor(fake_params, dtype=torch.float).unsqueeze(0)\n",
    "        \n",
    "        # Train Discriminator\n",
    "        discriminator.zero_grad()\n",
    "\n",
    "        real_output = discriminator(signal_tensor, params_tensor, z)\n",
    "        fake_output = discriminator(signal_tensor, fake_params_tensor, z)\n",
    "\n",
    "        loss_D = criterion(real_output, torch.ones_like(real_output)) + criterion(fake_output, torch.zeros_like(fake_output))\n",
    "        loss_D.backward()\n",
    "        optimizer_D.step()\n",
    "        \n",
    "        # Train Generator\n",
    "        generator.zero_grad()\n",
    "        fake_output = discriminator(signal_tensor, fake_params_tensor, z)\n",
    "        loss_G = criterion(fake_output, torch.ones_like(fake_output))\n",
    "        loss_G.backward()\n",
    "        optimizer_G.step()\n",
    "        \n",
    "    print(f\"Epoch [{epoch+1}/{num_epochs}], Loss_D: {loss_D.item():.4f}, Loss_G: {loss_G.item():.4f}\")"
   ]
  },
  {
   "cell_type": "code",
   "execution_count": 6,
   "metadata": {},
   "outputs": [
    {
     "name": "stdout",
     "output_type": "stream",
     "text": [
      "[11.932606705122195, 11.162418137025993, 10.4756841253002, 4.987917542700986, 6.680472242895795, 9.476344061090538, 11.49344133978031, 7.710859755200287, 8.150962593003921, 9.69722944345947, 0.5280247517513108, 0.29307557035745196, 0.4125361499479564, 0.23165350097477755, 0.3668298432325661, 0.19174394102041625, 0.30709077623889464, 0.2659907904225629, 0.2302718133085357, 0.18864355760945117, 2.1258778163883654, 3.1314028956899485, 5.787724128895, 1.2106760330313815, 2.1463099429743857, 5.6504466748531845, 1.952982369564885, 5.114640044810341, 1.4848609981232601, 1.6946353361577309]\n",
      "[-0.14385965  0.28918138  0.13915028 -0.18603382  0.31020144  0.21562594\n",
      "  0.21877581 -0.07718515  0.39901143 -0.06567101 -0.2909413   0.38289204\n",
      " -0.15082283  0.15140295 -0.2656356   0.25412095 -0.3449543  -0.01768567\n",
      "  0.11298192 -0.29028493  0.06241315 -0.01468661 -0.15705107 -0.11825426\n",
      " -0.11011943 -0.5264281  -0.11834784 -0.1210531  -0.34998825  0.7186213 ]\n"
     ]
    }
   ],
   "source": [
    "SG = Signal_Generator(num_sources=10, noise_amplitude=1)\n",
    "signals = SG.generating_signal()\n",
    "params = SG.printing_parameters()\n",
    "signal = signals['Signal'].values\n",
    "\n",
    "print(params)\n",
    "\n",
    "signal_tensor = torch.tensor(signal, dtype=torch.float).unsqueeze(0).unsqueeze(0)\n",
    "params_tensor = torch.tensor(params, dtype=torch.float).unsqueeze(0)\n",
    "\n",
    "generate_params = generator(signal_tensor, z).detach().squeeze().numpy()\n",
    "print(generate_params)"
   ]
  },
  {
   "cell_type": "code",
   "execution_count": 7,
   "metadata": {},
   "outputs": [
    {
     "data": {
      "text/plain": [
       "30"
      ]
     },
     "execution_count": 7,
     "metadata": {},
     "output_type": "execute_result"
    }
   ],
   "source": [
    "len(params)"
   ]
  },
  {
   "cell_type": "code",
   "execution_count": 8,
   "metadata": {},
   "outputs": [
    {
     "data": {
      "text/plain": [
       "30"
      ]
     },
     "execution_count": 8,
     "metadata": {},
     "output_type": "execute_result"
    }
   ],
   "source": [
    "len(generate_params)"
   ]
  }
 ],
 "metadata": {
  "kernelspec": {
   "display_name": "MasLISA",
   "language": "python",
   "name": "python3"
  },
  "language_info": {
   "codemirror_mode": {
    "name": "ipython",
    "version": 3
   },
   "file_extension": ".py",
   "mimetype": "text/x-python",
   "name": "python",
   "nbconvert_exporter": "python",
   "pygments_lexer": "ipython3",
   "version": "3.11.5"
  }
 },
 "nbformat": 4,
 "nbformat_minor": 2
}

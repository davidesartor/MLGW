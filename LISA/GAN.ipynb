{
 "cells": [
  {
   "cell_type": "code",
   "execution_count": 1,
   "metadata": {},
   "outputs": [],
   "source": [
    "from GAN import Generator, Discriminator\n",
    "import torch\n",
    "import numpy as np\n",
    "import matplotlib.pyplot as plt"
   ]
  },
  {
   "cell_type": "code",
   "execution_count": 2,
   "metadata": {},
   "outputs": [],
   "source": [
    "t = np.linspace(0, 1, 1000)\n",
    "\n",
    "num_latent_variables = 10\n",
    "\n",
    "z = torch.randn(1, num_latent_variables, 1)\n",
    "\n",
    "\n",
    "amplitude_range=(0.5, 1.5)\n",
    "phase_range=(0, np.pi)\n",
    "frequency_range=(1, 5)\n",
    "\n",
    "amplitude = np.random.uniform(*amplitude_range)\n",
    "phase = np.random.uniform(*phase_range)\n",
    "frequency = np.random.uniform(*frequency_range) \n",
    "\n",
    "input_signal = amplitude * np.sin(2 * np.pi * frequency * t + phase)\n",
    "input_signal_tensor = torch.tensor(input_signal, dtype=torch.float).unsqueeze(0).unsqueeze(0)\n",
    "\n",
    "# Initialize the generator\n",
    "generator = Generator(in_channels=1, num_latent_variables=num_latent_variables, length=1000)\n",
    "\n",
    "# Generate the signal with the corrected generator\n",
    "with torch.no_grad():\n",
    "    generated_params = generator(input_signal_tensor, z).squeeze().numpy()"
   ]
  },
  {
   "cell_type": "code",
   "execution_count": 3,
   "metadata": {},
   "outputs": [
    {
     "data": {
      "text/plain": [
       "array([ 0.04214858, -0.07050233,  0.17444995], dtype=float32)"
      ]
     },
     "execution_count": 3,
     "metadata": {},
     "output_type": "execute_result"
    }
   ],
   "source": [
    "generated_params"
   ]
  },
  {
   "cell_type": "code",
   "execution_count": 4,
   "metadata": {},
   "outputs": [
    {
     "name": "stdout",
     "output_type": "stream",
     "text": [
      "0.5431119799613953\n",
      "0.5431119799613953\n"
     ]
    }
   ],
   "source": [
    "discriminator = Discriminator(input_channels=1, num_latent_variables=num_latent_variables)\n",
    "\n",
    "with torch.no_grad():\n",
    "    input_signal_tensor = torch.tensor(input_signal, dtype=torch.float).unsqueeze(0).unsqueeze(0)\n",
    "    generated_params_tensor = torch.tensor(generated_params, dtype=torch.float).unsqueeze(0)\n",
    "    discriminator_output_generated = discriminator(input_signal_tensor, generated_params_tensor, z)\n",
    "\n",
    "    discriminator_output_input = discriminator(input_signal_tensor, generated_params_tensor, z)\n",
    "\n",
    "print(discriminator_output_generated.item())\n",
    "print(discriminator_output_input.item())"
   ]
  }
 ],
 "metadata": {
  "kernelspec": {
   "display_name": "MasLISA",
   "language": "python",
   "name": "python3"
  },
  "language_info": {
   "codemirror_mode": {
    "name": "ipython",
    "version": 3
   },
   "file_extension": ".py",
   "mimetype": "text/x-python",
   "name": "python",
   "nbconvert_exporter": "python",
   "pygments_lexer": "ipython3",
   "version": "3.11.5"
  }
 },
 "nbformat": 4,
 "nbformat_minor": 2
}

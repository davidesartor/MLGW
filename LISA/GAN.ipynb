{
 "cells": [
  {
   "cell_type": "code",
   "execution_count": 1,
   "metadata": {},
   "outputs": [],
   "source": [
    "from GAN import Generator, Discriminator\n",
    "import torch\n",
    "import numpy as np\n",
    "import matplotlib.pyplot as plt\n",
    "\n",
    "from Signal_Generator import *\n",
    "from Signal_Analyzer import *"
   ]
  },
  {
   "cell_type": "code",
   "execution_count": 4,
   "metadata": {},
   "outputs": [],
   "source": [
    "SG = Signal_Generator(noise_amplitude=1)\n",
    "data = SG.generating_signal()\n",
    "params = SG.printing_parameters()\n",
    "\n",
    "num_latent_variables = 10\n",
    "\n",
    "z = torch.randn(1, num_latent_variables, 1)\n",
    "\n",
    "input_signal = data['Signal'].values\n",
    "input_signal_tensor = torch.tensor(input_signal, dtype=torch.float).unsqueeze(0).unsqueeze(0)"
   ]
  },
  {
   "cell_type": "code",
   "execution_count": 3,
   "metadata": {},
   "outputs": [],
   "source": [
    "# Initialize the generator\n",
    "generator = Generator(in_channels=1, num_latent_variables=num_latent_variables, length=len(input_signal), num_parameters=len(params))\n",
    "\n",
    "# Generate the signal with the corrected generator\n",
    "with torch.no_grad():\n",
    "    generated_params = generator(input_signal_tensor, z).squeeze().numpy()"
   ]
  },
  {
   "cell_type": "code",
   "execution_count": 4,
   "metadata": {},
   "outputs": [
    {
     "name": "stdout",
     "output_type": "stream",
     "text": [
      "0.5067262649536133\n",
      "0.5660948753356934\n"
     ]
    }
   ],
   "source": [
    "discriminator = Discriminator(input_channels=1, num_latent_variables=num_latent_variables, length=len(input_signal), num_parameters=len(params))\n",
    "\n",
    "with torch.no_grad():\n",
    "    input_signal_tensor = torch.tensor(input_signal, dtype=torch.float).unsqueeze(0).unsqueeze(0)\n",
    "    generated_params_tensor = torch.tensor(generated_params, dtype=torch.float).unsqueeze(0)\n",
    "    params_tensor = torch.tensor(params, dtype=torch.float).unsqueeze(0)\n",
    "    \n",
    "    discriminator_output_generated = discriminator(input_signal_tensor, generated_params_tensor, z)\n",
    "    discriminator_output_input = discriminator(input_signal_tensor, params_tensor, z)\n",
    "\n",
    "print(discriminator_output_generated.item())\n",
    "print(discriminator_output_input.item())"
   ]
  }
 ],
 "metadata": {
  "kernelspec": {
   "display_name": "MasLISA",
   "language": "python",
   "name": "python3"
  },
  "language_info": {
   "codemirror_mode": {
    "name": "ipython",
    "version": 3
   },
   "file_extension": ".py",
   "mimetype": "text/x-python",
   "name": "python",
   "nbconvert_exporter": "python",
   "pygments_lexer": "ipython3",
   "version": "3.11.5"
  }
 },
 "nbformat": 4,
 "nbformat_minor": 2
}
